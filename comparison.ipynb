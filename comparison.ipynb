{
 "cells": [
  {
   "cell_type": "markdown",
   "metadata": {},
   "source": [
    "# Country Comparison\n",
    "This project will compare countires using Python and data from <a href=https://www.cia.gov/the-world-factbook/> the CIA's World Facebook </a> on each country's life expectancy at birth and number of internet users.\n",
    "\n",
    "![World Map](https://www.cia.gov/the-world-factbook/static/94795a76638f6385b051647ac2ac1c4b/world_pol.jpg)"
   ]
  },
  {
   "cell_type": "code",
   "execution_count": 1,
   "metadata": {},
   "outputs": [],
   "source": [
    "# Importing modules that will be used in this notebook\n",
    "import pandas as pd\n",
    "import numpy as np\n",
    "import matplotlib.pyplot as plt\n",
    "import seaborn as sns"
   ]
  },
  {
   "cell_type": "markdown",
   "metadata": {},
   "source": [
    "## Adding Data"
   ]
  },
  {
   "cell_type": "code",
   "execution_count": 2,
   "metadata": {},
   "outputs": [
    {
     "data": {
      "text/html": [
       "<div>\n",
       "<style scoped>\n",
       "    .dataframe tbody tr th:only-of-type {\n",
       "        vertical-align: middle;\n",
       "    }\n",
       "\n",
       "    .dataframe tbody tr th {\n",
       "        vertical-align: top;\n",
       "    }\n",
       "\n",
       "    .dataframe thead th {\n",
       "        text-align: right;\n",
       "    }\n",
       "</style>\n",
       "<table border=\"1\" class=\"dataframe\">\n",
       "  <thead>\n",
       "    <tr style=\"text-align: right;\">\n",
       "      <th></th>\n",
       "      <th>NAME</th>\n",
       "      <th>SLUG</th>\n",
       "      <th>LIFE-EXPECTANCY-AT-BIRTH</th>\n",
       "      <th>DATE-OF-INFORMATION</th>\n",
       "      <th>REAL-GDP-PER-CAPITA</th>\n",
       "      <th>MEDIAN-AGE</th>\n",
       "      <th>REGION</th>\n",
       "    </tr>\n",
       "  </thead>\n",
       "  <tbody>\n",
       "    <tr>\n",
       "      <th>0</th>\n",
       "      <td>Afghanistan</td>\n",
       "      <td>afghanistan</td>\n",
       "      <td>53.65</td>\n",
       "      <td>NaN</td>\n",
       "      <td>$2,000</td>\n",
       "      <td>19.5</td>\n",
       "      <td>South Asia</td>\n",
       "    </tr>\n",
       "    <tr>\n",
       "      <th>1</th>\n",
       "      <td>Albania</td>\n",
       "      <td>albania</td>\n",
       "      <td>79.47</td>\n",
       "      <td>NaN</td>\n",
       "      <td>$13,300</td>\n",
       "      <td>34.3</td>\n",
       "      <td>Europe</td>\n",
       "    </tr>\n",
       "    <tr>\n",
       "      <th>2</th>\n",
       "      <td>Algeria</td>\n",
       "      <td>algeria</td>\n",
       "      <td>78.03</td>\n",
       "      <td>NaN</td>\n",
       "      <td>$10,700</td>\n",
       "      <td>28.9</td>\n",
       "      <td>Africa</td>\n",
       "    </tr>\n",
       "    <tr>\n",
       "      <th>3</th>\n",
       "      <td>American Samoa</td>\n",
       "      <td>american-samoa</td>\n",
       "      <td>75.32</td>\n",
       "      <td>NaN</td>\n",
       "      <td>$11,200</td>\n",
       "      <td>27.2</td>\n",
       "      <td>Australia and Oceania</td>\n",
       "    </tr>\n",
       "    <tr>\n",
       "      <th>4</th>\n",
       "      <td>Andorra</td>\n",
       "      <td>andorra</td>\n",
       "      <td>83.42</td>\n",
       "      <td>NaN</td>\n",
       "      <td>$49,900</td>\n",
       "      <td>46.2</td>\n",
       "      <td>Europe</td>\n",
       "    </tr>\n",
       "  </tbody>\n",
       "</table>\n",
       "</div>"
      ],
      "text/plain": [
       "             NAME            SLUG  LIFE-EXPECTANCY-AT-BIRTH  \\\n",
       "0     Afghanistan     afghanistan                     53.65   \n",
       "1         Albania         albania                     79.47   \n",
       "2         Algeria         algeria                     78.03   \n",
       "3  American Samoa  american-samoa                     75.32   \n",
       "4         Andorra         andorra                     83.42   \n",
       "\n",
       "   DATE-OF-INFORMATION REAL-GDP-PER-CAPITA  MEDIAN-AGE                 REGION  \n",
       "0                  NaN             $2,000         19.5             South Asia  \n",
       "1                  NaN            $13,300         34.3                 Europe  \n",
       "2                  NaN            $10,700         28.9                 Africa  \n",
       "3                  NaN            $11,200         27.2  Australia and Oceania  \n",
       "4                  NaN            $49,900         46.2                 Europe  "
      ]
     },
     "execution_count": 2,
     "metadata": {},
     "output_type": "execute_result"
    }
   ],
   "source": [
    "# Reading in data from local csv using pandas read_csv function\n",
    "comparison_df = pd.read_csv('County_Comparison.csv')\n",
    "\n",
    "# displaying the top 5 rows of the newly created comparsion_df DataFrame to ensure it was loaded correctly\n",
    "comparison_df.head()"
   ]
  },
  {
   "cell_type": "markdown",
   "metadata": {},
   "source": [
    "## Manipulating and Cleaning Data"
   ]
  },
  {
   "cell_type": "code",
   "execution_count": 3,
   "metadata": {},
   "outputs": [
    {
     "data": {
      "text/html": [
       "<div>\n",
       "<style scoped>\n",
       "    .dataframe tbody tr th:only-of-type {\n",
       "        vertical-align: middle;\n",
       "    }\n",
       "\n",
       "    .dataframe tbody tr th {\n",
       "        vertical-align: top;\n",
       "    }\n",
       "\n",
       "    .dataframe thead th {\n",
       "        text-align: right;\n",
       "    }\n",
       "</style>\n",
       "<table border=\"1\" class=\"dataframe\">\n",
       "  <thead>\n",
       "    <tr style=\"text-align: right;\">\n",
       "      <th></th>\n",
       "      <th>NAME</th>\n",
       "      <th>LIFE-EXPECTANCY-AT-BIRTH</th>\n",
       "      <th>REAL-GDP-PER-CAPITA</th>\n",
       "      <th>MEDIAN-AGE</th>\n",
       "      <th>REGION</th>\n",
       "    </tr>\n",
       "  </thead>\n",
       "  <tbody>\n",
       "    <tr>\n",
       "      <th>0</th>\n",
       "      <td>Afghanistan</td>\n",
       "      <td>53.65</td>\n",
       "      <td>$2,000</td>\n",
       "      <td>19.5</td>\n",
       "      <td>South Asia</td>\n",
       "    </tr>\n",
       "    <tr>\n",
       "      <th>1</th>\n",
       "      <td>Albania</td>\n",
       "      <td>79.47</td>\n",
       "      <td>$13,300</td>\n",
       "      <td>34.3</td>\n",
       "      <td>Europe</td>\n",
       "    </tr>\n",
       "    <tr>\n",
       "      <th>2</th>\n",
       "      <td>Algeria</td>\n",
       "      <td>78.03</td>\n",
       "      <td>$10,700</td>\n",
       "      <td>28.9</td>\n",
       "      <td>Africa</td>\n",
       "    </tr>\n",
       "    <tr>\n",
       "      <th>3</th>\n",
       "      <td>American Samoa</td>\n",
       "      <td>75.32</td>\n",
       "      <td>$11,200</td>\n",
       "      <td>27.2</td>\n",
       "      <td>Australia and Oceania</td>\n",
       "    </tr>\n",
       "    <tr>\n",
       "      <th>4</th>\n",
       "      <td>Andorra</td>\n",
       "      <td>83.42</td>\n",
       "      <td>$49,900</td>\n",
       "      <td>46.2</td>\n",
       "      <td>Europe</td>\n",
       "    </tr>\n",
       "  </tbody>\n",
       "</table>\n",
       "</div>"
      ],
      "text/plain": [
       "             NAME  LIFE-EXPECTANCY-AT-BIRTH REAL-GDP-PER-CAPITA  MEDIAN-AGE  \\\n",
       "0     Afghanistan                     53.65             $2,000         19.5   \n",
       "1         Albania                     79.47            $13,300         34.3   \n",
       "2         Algeria                     78.03            $10,700         28.9   \n",
       "3  American Samoa                     75.32            $11,200         27.2   \n",
       "4         Andorra                     83.42            $49,900         46.2   \n",
       "\n",
       "                  REGION  \n",
       "0             South Asia  \n",
       "1                 Europe  \n",
       "2                 Africa  \n",
       "3  Australia and Oceania  \n",
       "4                 Europe  "
      ]
     },
     "execution_count": 3,
     "metadata": {},
     "output_type": "execute_result"
    }
   ],
   "source": [
    "# using the drop function to get rid columns that will not be used for this project\n",
    "clean_comparison_df = comparison_df.drop(columns=['SLUG', 'DATE-OF-INFORMATION'])\n",
    "\n",
    "# displaying the top 5 rows of the cleaned DataFrame to emsure the unnecessary columns were dropped correctly\n",
    "clean_comparison_df.head()"
   ]
  },
  {
   "cell_type": "code",
   "execution_count": 4,
   "metadata": {},
   "outputs": [],
   "source": [
    "# Removing the comma and dollar sign from the Real-GDP-Per-Capita column so the values in that column can be used later on in the project\n",
    "clean_comparison_df['REAL-GDP-PER-CAPITA'] = clean_comparison_df['REAL-GDP-PER-CAPITA'].astype(str)\n",
    "clean_comparison_df['REAL-GDP-PER-CAPITA'] = clean_comparison_df['REAL-GDP-PER-CAPITA'].replace('\\$','', regex=True)\n",
    "clean_comparison_df['REAL-GDP-PER-CAPITA'] = clean_comparison_df['REAL-GDP-PER-CAPITA'].replace(',','', regex=True)\n",
    "clean_comparison_df['REAL-GDP-PER-CAPITA'] = clean_comparison_df['REAL-GDP-PER-CAPITA'].astype(float)"
   ]
  },
  {
   "cell_type": "markdown",
   "metadata": {},
   "source": [
    "## Analyzing Data"
   ]
  },
  {
   "cell_type": "markdown",
   "metadata": {},
   "source": [
    "First, I will find out how many countires we are comparing by using the shape() function. "
   ]
  },
  {
   "cell_type": "code",
   "execution_count": 5,
   "metadata": {},
   "outputs": [
    {
     "name": "stdout",
     "output_type": "stream",
     "text": [
      "There are 226 rows in the DataFrame, so there should be 226 countires in the comparsion data.\n"
     ]
    }
   ],
   "source": [
    "# Finding total number of countires\n",
    "num_rows = clean_comparison_df.shape[0]\n",
    "\n",
    "print(f\"There are {num_rows} rows in the DataFrame, so there should be {num_rows} countires in the comparsion data.\")\n"
   ]
  },
  {
   "cell_type": "markdown",
   "metadata": {},
   "source": [
    "To double check my above assumption, I will use the nunique() function to count the number of unique values in the Country Name column. \n",
    "\n",
    "This number should match the number of rows in the DataFrame and will confirm that no duplicate countries exist in the data. I will use conditional statements to be sure the numbers match."
   ]
  },
  {
   "cell_type": "code",
   "execution_count": 6,
   "metadata": {},
   "outputs": [
    {
     "name": "stdout",
     "output_type": "stream",
     "text": [
      "There are 226 unique country names in the data.\n",
      "\n",
      "The number of rows matches the number of unique country names. There are no duplicate values.\n"
     ]
    }
   ],
   "source": [
    "# Finding number of unique Country Names in Names column\n",
    "num_countries = clean_comparison_df['NAME'].nunique()\n",
    "print(f\"There are {num_countries} unique country names in the data.\\n\")\n",
    "\n",
    "# Checking to be sure the number of rows matches the number of countires\n",
    "if num_rows == num_countries:\n",
    "    print('The number of rows matches the number of unique country names. There are no duplicate values.')\n",
    "elif num_rows > num_countries:\n",
    "    print('There are more rows than unqiue country names. There are duplicate countires in the data.')\n",
    "else:\n",
    "    print(\"There are more unique country names than rows. Something is wrong.\")\n"
   ]
  },
  {
   "cell_type": "markdown",
   "metadata": {},
   "source": [
    "### Life Expectancy Analysis\n",
    "\n",
    "Now that we know how many countries we are comparing, I will rank each country from highest life expectancy to lowest life expectancy. I will also rank each countries real GDP per capita and save both of these as new columns. I will then sort the DataFrame from best life expectancy rank to lowest life expectancy rank."
   ]
  },
  {
   "cell_type": "code",
   "execution_count": 7,
   "metadata": {},
   "outputs": [
    {
     "data": {
      "text/html": [
       "<div>\n",
       "<style scoped>\n",
       "    .dataframe tbody tr th:only-of-type {\n",
       "        vertical-align: middle;\n",
       "    }\n",
       "\n",
       "    .dataframe tbody tr th {\n",
       "        vertical-align: top;\n",
       "    }\n",
       "\n",
       "    .dataframe thead th {\n",
       "        text-align: right;\n",
       "    }\n",
       "</style>\n",
       "<table border=\"1\" class=\"dataframe\">\n",
       "  <thead>\n",
       "    <tr style=\"text-align: right;\">\n",
       "      <th></th>\n",
       "      <th>NAME</th>\n",
       "      <th>LIFE-EXPECTANCY-AT-BIRTH</th>\n",
       "      <th>REAL-GDP-PER-CAPITA</th>\n",
       "      <th>MEDIAN-AGE</th>\n",
       "      <th>REGION</th>\n",
       "      <th>Life_Expectancy_Rank</th>\n",
       "      <th>GDP_Rank</th>\n",
       "    </tr>\n",
       "  </thead>\n",
       "  <tbody>\n",
       "    <tr>\n",
       "      <th>135</th>\n",
       "      <td>Monaco</td>\n",
       "      <td>89.52</td>\n",
       "      <td>115700.0</td>\n",
       "      <td>55.4</td>\n",
       "      <td>Europe</td>\n",
       "      <td>1.0</td>\n",
       "      <td>2.0</td>\n",
       "    </tr>\n",
       "    <tr>\n",
       "      <th>183</th>\n",
       "      <td>Singapore</td>\n",
       "      <td>86.35</td>\n",
       "      <td>93400.0</td>\n",
       "      <td>35.6</td>\n",
       "      <td>East and Southeast Asia</td>\n",
       "      <td>2.0</td>\n",
       "      <td>4.0</td>\n",
       "    </tr>\n",
       "    <tr>\n",
       "      <th>122</th>\n",
       "      <td>Macau</td>\n",
       "      <td>84.98</td>\n",
       "      <td>54800.0</td>\n",
       "      <td>40.8</td>\n",
       "      <td>East and Southeast Asia</td>\n",
       "      <td>3.0</td>\n",
       "      <td>20.0</td>\n",
       "    </tr>\n",
       "    <tr>\n",
       "      <th>102</th>\n",
       "      <td>Japan</td>\n",
       "      <td>84.83</td>\n",
       "      <td>41400.0</td>\n",
       "      <td>48.6</td>\n",
       "      <td>East and Southeast Asia</td>\n",
       "      <td>4.0</td>\n",
       "      <td>40.0</td>\n",
       "    </tr>\n",
       "    <tr>\n",
       "      <th>176</th>\n",
       "      <td>San Marino</td>\n",
       "      <td>83.86</td>\n",
       "      <td>60800.0</td>\n",
       "      <td>45.2</td>\n",
       "      <td>Europe</td>\n",
       "      <td>5.0</td>\n",
       "      <td>15.0</td>\n",
       "    </tr>\n",
       "  </tbody>\n",
       "</table>\n",
       "</div>"
      ],
      "text/plain": [
       "           NAME  LIFE-EXPECTANCY-AT-BIRTH  REAL-GDP-PER-CAPITA  MEDIAN-AGE  \\\n",
       "135      Monaco                     89.52             115700.0        55.4   \n",
       "183   Singapore                     86.35              93400.0        35.6   \n",
       "122       Macau                     84.98              54800.0        40.8   \n",
       "102       Japan                     84.83              41400.0        48.6   \n",
       "176  San Marino                     83.86              60800.0        45.2   \n",
       "\n",
       "                      REGION  Life_Expectancy_Rank  GDP_Rank  \n",
       "135                   Europe                   1.0       2.0  \n",
       "183  East and Southeast Asia                   2.0       4.0  \n",
       "122  East and Southeast Asia                   3.0      20.0  \n",
       "102  East and Southeast Asia                   4.0      40.0  \n",
       "176                   Europe                   5.0      15.0  "
      ]
     },
     "execution_count": 7,
     "metadata": {},
     "output_type": "execute_result"
    }
   ],
   "source": [
    "# Ranking each country from greatest life expectancy to least life expectancy and creating a column to store the ranking\n",
    "ranked_comparison_df = clean_comparison_df.copy()\n",
    "ranked_comparison_df['Life_Expectancy_Rank'] = ranked_comparison_df['LIFE-EXPECTANCY-AT-BIRTH'].rank(ascending=False)\n",
    "\n",
    "# Now ranking each country from highest GDP per capita to lowest GDP per capita and creating a column for that ranking\n",
    "double_ranked_comparsion_df = ranked_comparison_df.copy()\n",
    "double_ranked_comparsion_df['GDP_Rank'] = double_ranked_comparsion_df['REAL-GDP-PER-CAPITA'].rank(ascending=False)\n",
    "\n",
    "# sorting dataframe by life expectancy rank in descending order\n",
    "sorted_comparison_df = double_ranked_comparsion_df.sort_values(by='Life_Expectancy_Rank')\n",
    "sorted_comparison_df.head()"
   ]
  },
  {
   "cell_type": "markdown",
   "metadata": {},
   "source": [
    "Now that I have ranked every country and sorted the data, I will use the min(), median(), and max() functions with the loc() function to identify the countries with the highest an lowest life expectancies as well as the overall median life expectancy."
   ]
  },
  {
   "cell_type": "code",
   "execution_count": 8,
   "metadata": {},
   "outputs": [
    {
     "name": "stdout",
     "output_type": "stream",
     "text": [
      "The median life expectancy for all countries is 75.8 years. \n",
      "\n",
      "The country with the lowest life expectancy at birth is Afghanistan with a life expectancy of 53.65 years.\n",
      "\n",
      "The country with the higest life expectancy at birth is Monaco with a life expectancy of 89.52 years.\n"
     ]
    }
   ],
   "source": [
    "#Finding the min, median, and max of life expectancies and saving those values as variables\n",
    "median_expectancy = str(sorted_comparison_df['LIFE-EXPECTANCY-AT-BIRTH'].median())\n",
    "min_lf = (sorted_comparison_df['LIFE-EXPECTANCY-AT-BIRTH'].min())\n",
    "min_lf_country = sorted_comparison_df.loc[sorted_comparison_df['LIFE-EXPECTANCY-AT-BIRTH']== min_lf, 'NAME'].iloc[0]\n",
    "max_lf = sorted_comparison_df['LIFE-EXPECTANCY-AT-BIRTH'].max()\n",
    "max_lf_country = sorted_comparison_df.loc[sorted_comparison_df['LIFE-EXPECTANCY-AT-BIRTH']== max_lf, 'NAME'].iloc[0]\n",
    "\n",
    "# printing statements showing the min, median and max life expectancies in context\n",
    "print (\"The median life expectancy for all countries is \" + median_expectancy + \" years. \\n\")\n",
    "print(f\"The country with the lowest life expectancy at birth is {min_lf_country} with a life expectancy of {min_lf} years.\\n\")\n",
    "print(f\"The country with the higest life expectancy at birth is {max_lf_country} with a life expectancy of {max_lf} years.\")"
   ]
  },
  {
   "cell_type": "markdown",
   "metadata": {},
   "source": [
    "Now I will use the groupby() function to identify the median life expectancy by region, rather than by individual country."
   ]
  },
  {
   "cell_type": "code",
   "execution_count": 9,
   "metadata": {},
   "outputs": [
    {
     "name": "stdout",
     "output_type": "stream",
     "text": [
      "Here are the median life expectancies of all countires in each region:\n"
     ]
    },
    {
     "data": {
      "text/html": [
       "<div>\n",
       "<style scoped>\n",
       "    .dataframe tbody tr th:only-of-type {\n",
       "        vertical-align: middle;\n",
       "    }\n",
       "\n",
       "    .dataframe tbody tr th {\n",
       "        vertical-align: top;\n",
       "    }\n",
       "\n",
       "    .dataframe thead tr th {\n",
       "        text-align: left;\n",
       "    }\n",
       "\n",
       "    .dataframe thead tr:last-of-type th {\n",
       "        text-align: right;\n",
       "    }\n",
       "</style>\n",
       "<table border=\"1\" class=\"dataframe\">\n",
       "  <thead>\n",
       "    <tr>\n",
       "      <th></th>\n",
       "      <th>LIFE-EXPECTANCY-AT-BIRTH</th>\n",
       "    </tr>\n",
       "    <tr>\n",
       "      <th></th>\n",
       "      <th>median</th>\n",
       "    </tr>\n",
       "    <tr>\n",
       "      <th>REGION</th>\n",
       "      <th></th>\n",
       "    </tr>\n",
       "  </thead>\n",
       "  <tbody>\n",
       "    <tr>\n",
       "      <th>Africa</th>\n",
       "      <td>65.850</td>\n",
       "    </tr>\n",
       "    <tr>\n",
       "      <th>Australia and Oceania</th>\n",
       "      <td>75.950</td>\n",
       "    </tr>\n",
       "    <tr>\n",
       "      <th>Central America and the Caribbean</th>\n",
       "      <td>77.905</td>\n",
       "    </tr>\n",
       "    <tr>\n",
       "      <th>Central Asia</th>\n",
       "      <td>72.395</td>\n",
       "    </tr>\n",
       "    <tr>\n",
       "      <th>East and Southeast Asia</th>\n",
       "      <td>75.825</td>\n",
       "    </tr>\n",
       "    <tr>\n",
       "      <th>Europe</th>\n",
       "      <td>81.510</td>\n",
       "    </tr>\n",
       "    <tr>\n",
       "      <th>Middle East</th>\n",
       "      <td>76.515</td>\n",
       "    </tr>\n",
       "    <tr>\n",
       "      <th>North America</th>\n",
       "      <td>81.000</td>\n",
       "    </tr>\n",
       "    <tr>\n",
       "      <th>South America</th>\n",
       "      <td>75.405</td>\n",
       "    </tr>\n",
       "    <tr>\n",
       "      <th>South Asia</th>\n",
       "      <td>72.355</td>\n",
       "    </tr>\n",
       "  </tbody>\n",
       "</table>\n",
       "</div>"
      ],
      "text/plain": [
       "                                  LIFE-EXPECTANCY-AT-BIRTH\n",
       "                                                    median\n",
       "REGION                                                    \n",
       "Africa                                              65.850\n",
       "Australia and Oceania                               75.950\n",
       "Central America and the Caribbean                   77.905\n",
       "Central Asia                                        72.395\n",
       "East and Southeast Asia                             75.825\n",
       "Europe                                              81.510\n",
       "Middle East                                         76.515\n",
       "North America                                       81.000\n",
       "South America                                       75.405\n",
       "South Asia                                          72.355"
      ]
     },
     "execution_count": 9,
     "metadata": {},
     "output_type": "execute_result"
    }
   ],
   "source": [
    "print ('Here are the median life expectancies of all countires in each region:')\n",
    "sorted_comparison_df.groupby('REGION').agg({'LIFE-EXPECTANCY-AT-BIRTH': ['median']})\n"
   ]
  },
  {
   "cell_type": "markdown",
   "metadata": {},
   "source": [
    "### Median Age Analysis\n",
    "\n",
    "Next I will once again use the min(), median(), and max() functions with the loc() function to identify the countries with the highest an lowest median age. \n",
    "\n",
    "I will compare the results of the median age analysis with the life expectancy analaysis. "
   ]
  },
  {
   "cell_type": "code",
   "execution_count": 10,
   "metadata": {},
   "outputs": [
    {
     "name": "stdout",
     "output_type": "stream",
     "text": [
      "The country with the lowest median age is Niger with a median age of 14.8 years, and the country with the highest median age is Monaco with a median age of 55.4 years. \n",
      "\n",
      "As Monaco has the highest life expectancy, it makes sense that their population skews older and has the highest median age. \n",
      "\n",
      "Niger's life expectancy is 60.09 and it ranks 217 out of 226. As Niger's life expectancy is on the lower end of the range it makes sense that thier population skews younger.\n"
     ]
    }
   ],
   "source": [
    "#Finding the min, median, and max of median ages and saving those values as variables\n",
    "min_age = sorted_comparison_df['MEDIAN-AGE'].min()\n",
    "min_age_country = str(sorted_comparison_df.loc[sorted_comparison_df['MEDIAN-AGE']==min_age, 'NAME'].iloc[0])\n",
    "max_age = sorted_comparison_df['MEDIAN-AGE'].max()\n",
    "max_age_country = str(sorted_comparison_df.loc[sorted_comparison_df['MEDIAN-AGE']==max_age, 'NAME'].iloc[0])\n",
    "\n",
    "print(f\"The country with the lowest median age is {min_age_country} with a median age of {min_age} years, and the country with the highest median age is {max_age_country} with a median age of {max_age} years. \\n\\nAs Monaco has the highest life expectancy, it makes sense that their population skews older and has the highest median age. \\n\" )\n",
    "\n",
    "# Finding Niger's life expectancy and ranking to compare its average age\n",
    "Niger_lf = sorted_comparison_df.loc[sorted_comparison_df['NAME']=='Niger', 'LIFE-EXPECTANCY-AT-BIRTH'].iloc[0]\n",
    "Niger_lf_rank = int(sorted_comparison_df.loc[sorted_comparison_df['NAME']=='Niger', 'Life_Expectancy_Rank'].iloc[0])\n",
    "\n",
    "print(f\"Niger's life expectancy is {Niger_lf} and it ranks {Niger_lf_rank} out of {num_countries}. As Niger's life expectancy is on the lower end of the range it makes sense that thier population skews younger.\")\n"
   ]
  },
  {
   "cell_type": "markdown",
   "metadata": {},
   "source": [
    "## Visualizing Data"
   ]
  },
  {
   "cell_type": "code",
   "execution_count": 11,
   "metadata": {},
   "outputs": [],
   "source": [
    "#set variables \n",
    "expectancy=sorted_comparison_df['LIFE-EXPECTANCY-AT-BIRTH']\n",
    "expectancy=np.round(expectancy,0)\n",
    "expectancy=expectancy.astype(int)"
   ]
  },
  {
   "cell_type": "code",
   "execution_count": 12,
   "metadata": {},
   "outputs": [],
   "source": [
    "comparsion_by_region = sorted_comparison_df.groupby(['REGION'], as_index=False).median()\n",
    "\n",
    "# Creating helper objects\n",
    "regional_le = np.array(comparsion_by_region['LIFE-EXPECTANCY-AT-BIRTH'])\n",
    "regional_regions = np.array(comparsion_by_region['REGION'])\n",
    "\n",
    "# rounding the variable and saving it as an int\n",
    "regional_le = np.round(regional_le,0)\n",
    "regional_le = regional_le.astype(int)\n"
   ]
  },
  {
   "cell_type": "code",
   "execution_count": 13,
   "metadata": {},
   "outputs": [
    {
     "data": {
      "image/png": "[encoded data removed]",
      "text/plain": [
       "<Figure size 864x432 with 1 Axes>"
      ]
     },
     "metadata": {
      "needs_background": "light"
     },
     "output_type": "display_data"
    }
   ],
   "source": [
    "# Creating bar chart showing the life expectancies by region\n",
    "plt.figure(figsize=(12,6))\n",
    "plt.bar(comparsion_by_region['REGION'], comparsion_by_region['LIFE-EXPECTANCY-AT-BIRTH'], edgecolor='black')\n",
    "plt.title(\"Median Life Expectancy at Birth by World Region\", fontsize='xx-large')\n",
    "plt.xlabel('World Regions', fontsize='x-large')\n",
    "plt.ylabel('Median Life Expectancy at Birth', fontsize='x-large')\n",
    "plt.xticks(rotation='vertical')\n",
    "\n",
    "for i in range(len(regional_le)):\n",
    "        plt.annotate(text = (str(regional_le[i])), xy = (regional_regions[i], regional_le[i]),\n",
    "            fontsize= 'x-large', horizontalalignment='center', verticalalignment='top', color='white')\n",
    "\n",
    "plt.show()"
   ]
  },
  {
   "cell_type": "markdown",
   "metadata": {},
   "source": [
    "Now I will see if there is a relationship between how a country ranks for life expectancy at birth and how it ranks for real GDP per capita. "
   ]
  },
  {
   "cell_type": "code",
   "execution_count": 24,
   "metadata": {},
   "outputs": [
    {
     "data": {
      "image/png": "[encoded data removed]",
      "text/plain": [
       "<Figure size 864x432 with 1 Axes>"
      ]
     },
     "metadata": {
      "needs_background": "light"
     },
     "output_type": "display_data"
    }
   ],
   "source": [
    "# Creating scatterplot with line of best fit with seaborn\n",
    "plt.figure(figsize=(12,6))\n",
    "sns.regplot(data=sorted_comparison_df, x='Life_Expectancy_Rank', y='GDP_Rank')\n",
    "plt.title(\"Life Expectancy Rank vs GDP Rank\", fontsize='xx-large')\n",
    "plt.xlabel('Life Expectancy Rank', fontsize='x-large')\n",
    "plt.ylabel('GDP Rank', fontsize='x-large')\n",
    "plt.show()"
   ]
  },
  {
   "cell_type": "markdown",
   "metadata": {},
   "source": [
    "As the line of best fit on the above graph shows, there is a relationship between a country's life expectancy at birth and real GDP per capita. "
   ]
  }
 ],
 "metadata": {
  "kernelspec": {
   "display_name": "Python 3.10.4 (conda)",
   "language": "python",
   "name": "python3"
  },
  "language_info": {
   "codemirror_mode": {
    "name": "ipython",
    "version": 3
   },
   "file_extension": ".py",
   "mimetype": "text/x-python",
   "name": "python",
   "nbconvert_exporter": "python",
   "pygments_lexer": "ipython3",
   "version": "3.10.4"
  },
  "orig_nbformat": 4,
  "vscode": {
   "interpreter": {
    "hash": "c9210f26c672ee5013faeaa411fc9882a3aae50849f828c7d22c2afc933e01be"
   }
  }
 },
 "nbformat": 4,
 "nbformat_minor": 2
}
