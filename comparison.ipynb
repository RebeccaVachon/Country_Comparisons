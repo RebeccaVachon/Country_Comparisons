{
 "cells": [
  {
   "cell_type": "markdown",
   "metadata": {},
   "source": [
    "# Country Comparison\n",
    "This project will compare countires using Python and data from <a href=https://www.cia.gov/the-world-factbook/> the CIA's World Facebook </a> on each country's life expectancy at birth and number of internet users.\n",
    "\n",
    "![World Map](https://www.cia.gov/the-world-factbook/static/94795a76638f6385b051647ac2ac1c4b/world_pol.jpg)"
   ]
  },
  {
   "cell_type": "code",
   "execution_count": 351,
   "metadata": {},
   "outputs": [],
   "source": [
    "# Importing modules that will be used in this notebook\n",
    "import pandas as pd\n",
    "import numpy as np\n",
    "import matplotlib.pyplot as plt"
   ]
  },
  {
   "cell_type": "markdown",
   "metadata": {},
   "source": [
    "## Adding Data"
   ]
  },
  {
   "cell_type": "code",
   "execution_count": 352,
   "metadata": {},
   "outputs": [
    {
     "data": {
      "text/html": [
       "<div>\n",
       "<style scoped>\n",
       "    .dataframe tbody tr th:only-of-type {\n",
       "        vertical-align: middle;\n",
       "    }\n",
       "\n",
       "    .dataframe tbody tr th {\n",
       "        vertical-align: top;\n",
       "    }\n",
       "\n",
       "    .dataframe thead th {\n",
       "        text-align: right;\n",
       "    }\n",
       "</style>\n",
       "<table border=\"1\" class=\"dataframe\">\n",
       "  <thead>\n",
       "    <tr style=\"text-align: right;\">\n",
       "      <th></th>\n",
       "      <th>NAME</th>\n",
       "      <th>SLUG</th>\n",
       "      <th>LIFE-EXPECTANCY-AT-BIRTH</th>\n",
       "      <th>DATE-OF-INFORMATION</th>\n",
       "      <th>REAL-GDP-PER-CAPITA</th>\n",
       "      <th>MEDIAN-AGE</th>\n",
       "      <th>REGION</th>\n",
       "    </tr>\n",
       "  </thead>\n",
       "  <tbody>\n",
       "    <tr>\n",
       "      <th>0</th>\n",
       "      <td>Afghanistan</td>\n",
       "      <td>afghanistan</td>\n",
       "      <td>53.65</td>\n",
       "      <td>NaN</td>\n",
       "      <td>$2,000</td>\n",
       "      <td>19.5</td>\n",
       "      <td>South Asia</td>\n",
       "    </tr>\n",
       "    <tr>\n",
       "      <th>1</th>\n",
       "      <td>Albania</td>\n",
       "      <td>albania</td>\n",
       "      <td>79.47</td>\n",
       "      <td>NaN</td>\n",
       "      <td>$13,300</td>\n",
       "      <td>34.3</td>\n",
       "      <td>Europe</td>\n",
       "    </tr>\n",
       "    <tr>\n",
       "      <th>2</th>\n",
       "      <td>Algeria</td>\n",
       "      <td>algeria</td>\n",
       "      <td>78.03</td>\n",
       "      <td>NaN</td>\n",
       "      <td>$10,700</td>\n",
       "      <td>28.9</td>\n",
       "      <td>Africa</td>\n",
       "    </tr>\n",
       "    <tr>\n",
       "      <th>3</th>\n",
       "      <td>American Samoa</td>\n",
       "      <td>american-samoa</td>\n",
       "      <td>75.32</td>\n",
       "      <td>NaN</td>\n",
       "      <td>$11,200</td>\n",
       "      <td>27.2</td>\n",
       "      <td>Australia and Oceania</td>\n",
       "    </tr>\n",
       "    <tr>\n",
       "      <th>4</th>\n",
       "      <td>Andorra</td>\n",
       "      <td>andorra</td>\n",
       "      <td>83.42</td>\n",
       "      <td>NaN</td>\n",
       "      <td>$49,900</td>\n",
       "      <td>46.2</td>\n",
       "      <td>Europe</td>\n",
       "    </tr>\n",
       "  </tbody>\n",
       "</table>\n",
       "</div>"
      ],
      "text/plain": [
       "             NAME            SLUG  LIFE-EXPECTANCY-AT-BIRTH  \\\n",
       "0     Afghanistan     afghanistan                     53.65   \n",
       "1         Albania         albania                     79.47   \n",
       "2         Algeria         algeria                     78.03   \n",
       "3  American Samoa  american-samoa                     75.32   \n",
       "4         Andorra         andorra                     83.42   \n",
       "\n",
       "   DATE-OF-INFORMATION REAL-GDP-PER-CAPITA  MEDIAN-AGE                 REGION  \n",
       "0                  NaN             $2,000         19.5             South Asia  \n",
       "1                  NaN            $13,300         34.3                 Europe  \n",
       "2                  NaN            $10,700         28.9                 Africa  \n",
       "3                  NaN            $11,200         27.2  Australia and Oceania  \n",
       "4                  NaN            $49,900         46.2                 Europe  "
      ]
     },
     "execution_count": 352,
     "metadata": {},
     "output_type": "execute_result"
    }
   ],
   "source": [
    "# Reading in data from local csv using pandas read_csv function\n",
    "comparison_df = pd.read_csv('County_Comparison.csv')\n",
    "\n",
    "# displaying the top 5 rows of the newly created comparsion_df DataFrame to ensure it was loaded correctly\n",
    "comparison_df.head()"
   ]
  },
  {
   "cell_type": "markdown",
   "metadata": {},
   "source": [
    "## Manipulating and Cleaning Data"
   ]
  },
  {
   "cell_type": "code",
   "execution_count": 353,
   "metadata": {},
   "outputs": [
    {
     "data": {
      "text/html": [
       "<div>\n",
       "<style scoped>\n",
       "    .dataframe tbody tr th:only-of-type {\n",
       "        vertical-align: middle;\n",
       "    }\n",
       "\n",
       "    .dataframe tbody tr th {\n",
       "        vertical-align: top;\n",
       "    }\n",
       "\n",
       "    .dataframe thead th {\n",
       "        text-align: right;\n",
       "    }\n",
       "</style>\n",
       "<table border=\"1\" class=\"dataframe\">\n",
       "  <thead>\n",
       "    <tr style=\"text-align: right;\">\n",
       "      <th></th>\n",
       "      <th>NAME</th>\n",
       "      <th>LIFE-EXPECTANCY-AT-BIRTH</th>\n",
       "      <th>REAL-GDP-PER-CAPITA</th>\n",
       "      <th>MEDIAN-AGE</th>\n",
       "      <th>REGION</th>\n",
       "    </tr>\n",
       "  </thead>\n",
       "  <tbody>\n",
       "    <tr>\n",
       "      <th>0</th>\n",
       "      <td>Afghanistan</td>\n",
       "      <td>53.65</td>\n",
       "      <td>$2,000</td>\n",
       "      <td>19.5</td>\n",
       "      <td>South Asia</td>\n",
       "    </tr>\n",
       "    <tr>\n",
       "      <th>1</th>\n",
       "      <td>Albania</td>\n",
       "      <td>79.47</td>\n",
       "      <td>$13,300</td>\n",
       "      <td>34.3</td>\n",
       "      <td>Europe</td>\n",
       "    </tr>\n",
       "    <tr>\n",
       "      <th>2</th>\n",
       "      <td>Algeria</td>\n",
       "      <td>78.03</td>\n",
       "      <td>$10,700</td>\n",
       "      <td>28.9</td>\n",
       "      <td>Africa</td>\n",
       "    </tr>\n",
       "    <tr>\n",
       "      <th>3</th>\n",
       "      <td>American Samoa</td>\n",
       "      <td>75.32</td>\n",
       "      <td>$11,200</td>\n",
       "      <td>27.2</td>\n",
       "      <td>Australia and Oceania</td>\n",
       "    </tr>\n",
       "    <tr>\n",
       "      <th>4</th>\n",
       "      <td>Andorra</td>\n",
       "      <td>83.42</td>\n",
       "      <td>$49,900</td>\n",
       "      <td>46.2</td>\n",
       "      <td>Europe</td>\n",
       "    </tr>\n",
       "  </tbody>\n",
       "</table>\n",
       "</div>"
      ],
      "text/plain": [
       "             NAME  LIFE-EXPECTANCY-AT-BIRTH REAL-GDP-PER-CAPITA  MEDIAN-AGE  \\\n",
       "0     Afghanistan                     53.65             $2,000         19.5   \n",
       "1         Albania                     79.47            $13,300         34.3   \n",
       "2         Algeria                     78.03            $10,700         28.9   \n",
       "3  American Samoa                     75.32            $11,200         27.2   \n",
       "4         Andorra                     83.42            $49,900         46.2   \n",
       "\n",
       "                  REGION  \n",
       "0             South Asia  \n",
       "1                 Europe  \n",
       "2                 Africa  \n",
       "3  Australia and Oceania  \n",
       "4                 Europe  "
      ]
     },
     "execution_count": 353,
     "metadata": {},
     "output_type": "execute_result"
    }
   ],
   "source": [
    "# using the drop function to get rid columns that will not be used for this project\n",
    "clean_comparison_df = comparison_df.drop(columns=['SLUG', 'DATE-OF-INFORMATION'])\n",
    "\n",
    "# displaying the top 5 rows of the cleaned DataFrame to emsure the unnecessary columns were dropped correctly\n",
    "clean_comparison_df.head()"
   ]
  },
  {
   "cell_type": "code",
   "execution_count": 354,
   "metadata": {},
   "outputs": [],
   "source": [
    "# Removing the comma and dollar sign from the Real-GDP-Per-Capita column so the values in that column can be used later on in the project\n",
    "clean_comparison_df['REAL-GDP-PER-CAPITA'] = clean_comparison_df['REAL-GDP-PER-CAPITA'].astype(str)\n",
    "clean_comparison_df['REAL-GDP-PER-CAPITA'] = clean_comparison_df['REAL-GDP-PER-CAPITA'].replace('\\$','', regex=True)\n",
    "clean_comparison_df['REAL-GDP-PER-CAPITA'] = clean_comparison_df['REAL-GDP-PER-CAPITA'].replace(',','', regex=True)\n",
    "clean_comparison_df['REAL-GDP-PER-CAPITA'] = clean_comparison_df['REAL-GDP-PER-CAPITA'].astype(float)"
   ]
  },
  {
   "cell_type": "markdown",
   "metadata": {},
   "source": [
    "## Analyzing Data"
   ]
  },
  {
   "cell_type": "code",
   "execution_count": 355,
   "metadata": {},
   "outputs": [
    {
     "data": {
      "text/html": [
       "<div>\n",
       "<style scoped>\n",
       "    .dataframe tbody tr th:only-of-type {\n",
       "        vertical-align: middle;\n",
       "    }\n",
       "\n",
       "    .dataframe tbody tr th {\n",
       "        vertical-align: top;\n",
       "    }\n",
       "\n",
       "    .dataframe thead th {\n",
       "        text-align: right;\n",
       "    }\n",
       "</style>\n",
       "<table border=\"1\" class=\"dataframe\">\n",
       "  <thead>\n",
       "    <tr style=\"text-align: right;\">\n",
       "      <th></th>\n",
       "      <th>NAME</th>\n",
       "      <th>LIFE-EXPECTANCY-AT-BIRTH</th>\n",
       "      <th>REAL-GDP-PER-CAPITA</th>\n",
       "      <th>MEDIAN-AGE</th>\n",
       "      <th>REGION</th>\n",
       "      <th>Life_Expectancy_Rank</th>\n",
       "      <th>GDP_Rank</th>\n",
       "    </tr>\n",
       "  </thead>\n",
       "  <tbody>\n",
       "    <tr>\n",
       "      <th>135</th>\n",
       "      <td>Monaco</td>\n",
       "      <td>89.52</td>\n",
       "      <td>115700.0</td>\n",
       "      <td>55.4</td>\n",
       "      <td>Europe</td>\n",
       "      <td>1.0</td>\n",
       "      <td>224.0</td>\n",
       "    </tr>\n",
       "    <tr>\n",
       "      <th>183</th>\n",
       "      <td>Singapore</td>\n",
       "      <td>86.35</td>\n",
       "      <td>93400.0</td>\n",
       "      <td>35.6</td>\n",
       "      <td>East and Southeast Asia</td>\n",
       "      <td>2.0</td>\n",
       "      <td>222.0</td>\n",
       "    </tr>\n",
       "    <tr>\n",
       "      <th>122</th>\n",
       "      <td>Macau</td>\n",
       "      <td>84.98</td>\n",
       "      <td>54800.0</td>\n",
       "      <td>40.8</td>\n",
       "      <td>East and Southeast Asia</td>\n",
       "      <td>3.0</td>\n",
       "      <td>206.0</td>\n",
       "    </tr>\n",
       "    <tr>\n",
       "      <th>102</th>\n",
       "      <td>Japan</td>\n",
       "      <td>84.83</td>\n",
       "      <td>41400.0</td>\n",
       "      <td>48.6</td>\n",
       "      <td>East and Southeast Asia</td>\n",
       "      <td>4.0</td>\n",
       "      <td>186.0</td>\n",
       "    </tr>\n",
       "    <tr>\n",
       "      <th>176</th>\n",
       "      <td>San Marino</td>\n",
       "      <td>83.86</td>\n",
       "      <td>60800.0</td>\n",
       "      <td>45.2</td>\n",
       "      <td>Europe</td>\n",
       "      <td>5.0</td>\n",
       "      <td>211.0</td>\n",
       "    </tr>\n",
       "  </tbody>\n",
       "</table>\n",
       "</div>"
      ],
      "text/plain": [
       "           NAME  LIFE-EXPECTANCY-AT-BIRTH  REAL-GDP-PER-CAPITA  MEDIAN-AGE  \\\n",
       "135      Monaco                     89.52             115700.0        55.4   \n",
       "183   Singapore                     86.35              93400.0        35.6   \n",
       "122       Macau                     84.98              54800.0        40.8   \n",
       "102       Japan                     84.83              41400.0        48.6   \n",
       "176  San Marino                     83.86              60800.0        45.2   \n",
       "\n",
       "                      REGION  Life_Expectancy_Rank  GDP_Rank  \n",
       "135                   Europe                   1.0     224.0  \n",
       "183  East and Southeast Asia                   2.0     222.0  \n",
       "122  East and Southeast Asia                   3.0     206.0  \n",
       "102  East and Southeast Asia                   4.0     186.0  \n",
       "176                   Europe                   5.0     211.0  "
      ]
     },
     "execution_count": 355,
     "metadata": {},
     "output_type": "execute_result"
    }
   ],
   "source": [
    "# Ranking each country from greatest life expectancy to least life expectancy and creating a column to store the ranking\n",
    "ranked_comparison_df = clean_comparison_df.copy()\n",
    "ranked_comparison_df['Life_Expectancy_Rank'] = ranked_comparison_df['LIFE-EXPECTANCY-AT-BIRTH'].rank(ascending=False)\n",
    "\n",
    "# Now ranking each country from highest GDP per capita to lowest GDP per capita and creating a column for that ranking\n",
    "double_ranked_comparsion_df = ranked_comparison_df.copy()\n",
    "double_ranked_comparsion_df['GDP_Rank'] = double_ranked_comparsion_df['REAL-GDP-PER-CAPITA'].rank(ascending='False')\n",
    "\n",
    "# sorting dataframe by life expectancy rank in descending order\n",
    "sorted_comparison_df = double_ranked_comparsion_df.sort_values(by='Life_Expectancy_Rank')\n",
    "\n",
    "# displaying the countires with the 5 best life expectancies \n",
    "sorted_comparison_df.head()"
   ]
  },
  {
   "cell_type": "code",
   "execution_count": 356,
   "metadata": {},
   "outputs": [
    {
     "name": "stdout",
     "output_type": "stream",
     "text": [
      "The median life expectancy for all countries is 75.8 years.\n",
      "The country with the lowest life expectancy at birth is Afghanistan with a life expectancy of 53.65 years.\n",
      "The country with the higest life expectancy at birth is Monaco with a life expectancy of 89.52 years.\n"
     ]
    }
   ],
   "source": [
    "#Finding the min, median, and max of life expectancies and saving those values as variables\n",
    "median_expectancy = str(sorted_comparison_df['LIFE-EXPECTANCY-AT-BIRTH'].median())\n",
    "min_lf = (sorted_comparison_df['LIFE-EXPECTANCY-AT-BIRTH'].min())\n",
    "min_lf_country = sorted_comparison_df.loc[sorted_comparison_df['LIFE-EXPECTANCY-AT-BIRTH']== min_lf, 'NAME'].iloc[0]\n",
    "max_lf = sorted_comparison_df['LIFE-EXPECTANCY-AT-BIRTH'].max()\n",
    "max_lf_country = sorted_comparison_df.loc[sorted_comparison_df['LIFE-EXPECTANCY-AT-BIRTH']== max_lf, 'NAME'].iloc[0]\n",
    "\n",
    "# printing statements showing the min, median and max life expectancies in context\n",
    "print (\"The median life expectancy for all countries is \" + median_expectancy + \" years.\")\n",
    "print(f\"The country with the lowest life expectancy at birth is {min_lf_country} with a life expectancy of {min_lf} years.\")\n",
    "print(f\"The country with the higest life expectancy at birth is {max_lf_country} with a life expectancy of {max_lf} years.\")"
   ]
  },
  {
   "cell_type": "code",
   "execution_count": 357,
   "metadata": {},
   "outputs": [
    {
     "name": "stdout",
     "output_type": "stream",
     "text": [
      "Here are the median life expectancies of all countires in each region:\n"
     ]
    },
    {
     "data": {
      "text/html": [
       "<div>\n",
       "<style scoped>\n",
       "    .dataframe tbody tr th:only-of-type {\n",
       "        vertical-align: middle;\n",
       "    }\n",
       "\n",
       "    .dataframe tbody tr th {\n",
       "        vertical-align: top;\n",
       "    }\n",
       "\n",
       "    .dataframe thead tr th {\n",
       "        text-align: left;\n",
       "    }\n",
       "\n",
       "    .dataframe thead tr:last-of-type th {\n",
       "        text-align: right;\n",
       "    }\n",
       "</style>\n",
       "<table border=\"1\" class=\"dataframe\">\n",
       "  <thead>\n",
       "    <tr>\n",
       "      <th></th>\n",
       "      <th>LIFE-EXPECTANCY-AT-BIRTH</th>\n",
       "    </tr>\n",
       "    <tr>\n",
       "      <th></th>\n",
       "      <th>median</th>\n",
       "    </tr>\n",
       "    <tr>\n",
       "      <th>REGION</th>\n",
       "      <th></th>\n",
       "    </tr>\n",
       "  </thead>\n",
       "  <tbody>\n",
       "    <tr>\n",
       "      <th>Africa</th>\n",
       "      <td>65.850</td>\n",
       "    </tr>\n",
       "    <tr>\n",
       "      <th>Australia and Oceania</th>\n",
       "      <td>75.950</td>\n",
       "    </tr>\n",
       "    <tr>\n",
       "      <th>Central America and the Caribbean</th>\n",
       "      <td>77.905</td>\n",
       "    </tr>\n",
       "    <tr>\n",
       "      <th>Central Asia</th>\n",
       "      <td>72.395</td>\n",
       "    </tr>\n",
       "    <tr>\n",
       "      <th>East and Southeast Asia</th>\n",
       "      <td>75.825</td>\n",
       "    </tr>\n",
       "    <tr>\n",
       "      <th>Europe</th>\n",
       "      <td>81.510</td>\n",
       "    </tr>\n",
       "    <tr>\n",
       "      <th>Middle East</th>\n",
       "      <td>76.515</td>\n",
       "    </tr>\n",
       "    <tr>\n",
       "      <th>North America</th>\n",
       "      <td>81.000</td>\n",
       "    </tr>\n",
       "    <tr>\n",
       "      <th>South America</th>\n",
       "      <td>75.405</td>\n",
       "    </tr>\n",
       "    <tr>\n",
       "      <th>South Asia</th>\n",
       "      <td>72.355</td>\n",
       "    </tr>\n",
       "  </tbody>\n",
       "</table>\n",
       "</div>"
      ],
      "text/plain": [
       "                                  LIFE-EXPECTANCY-AT-BIRTH\n",
       "                                                    median\n",
       "REGION                                                    \n",
       "Africa                                              65.850\n",
       "Australia and Oceania                               75.950\n",
       "Central America and the Caribbean                   77.905\n",
       "Central Asia                                        72.395\n",
       "East and Southeast Asia                             75.825\n",
       "Europe                                              81.510\n",
       "Middle East                                         76.515\n",
       "North America                                       81.000\n",
       "South America                                       75.405\n",
       "South Asia                                          72.355"
      ]
     },
     "execution_count": 357,
     "metadata": {},
     "output_type": "execute_result"
    }
   ],
   "source": [
    "print ('Here are the median life expectancies of all countires in each region:')\n",
    "sorted_comparison_df.groupby('REGION').agg({'LIFE-EXPECTANCY-AT-BIRTH': ['median']})\n"
   ]
  },
  {
   "cell_type": "code",
   "execution_count": 358,
   "metadata": {},
   "outputs": [
    {
     "name": "stdout",
     "output_type": "stream",
     "text": [
      "The country with the lowest median age is Niger with a median age of 14.8 years, and the country with the highest median age is Monaco with a median age of 55.4 years.\n"
     ]
    }
   ],
   "source": [
    "min_age = sorted_comparison_df['MEDIAN-AGE'].min()\n",
    "min_age_country = str(sorted_comparison_df.loc[sorted_comparison_df['MEDIAN-AGE']==min_age, 'NAME'].iloc[0])\n",
    "max_age = sorted_comparison_df['MEDIAN-AGE'].max()\n",
    "max_age_country = str(sorted_comparison_df.loc[sorted_comparison_df['MEDIAN-AGE']==max_age, 'NAME'].iloc[0])\n",
    "\n",
    "print(f\"The country with the lowest median age is {min_age_country} with a median age of {min_age} years, and the country with the highest median age is {max_age_country} with a median age of {max_age} years.\")"
   ]
  },
  {
   "cell_type": "markdown",
   "metadata": {},
   "source": [
    "## Visualizing Data"
   ]
  },
  {
   "cell_type": "code",
   "execution_count": 359,
   "metadata": {},
   "outputs": [],
   "source": [
    "#set variables \n",
    "expectancy=sorted_comparison_df['LIFE-EXPECTANCY-AT-BIRTH']\n",
    "expectancy=np.round(expectancy,0)\n",
    "expectancy=expectancy.astype(int)"
   ]
  },
  {
   "cell_type": "code",
   "execution_count": 360,
   "metadata": {},
   "outputs": [],
   "source": [
    "comparsion_by_region = sorted_comparison_df.groupby(['REGION'], as_index=False).median()\n",
    "\n",
    "# Creating helper objects\n",
    "regional_le = np.array(comparsion_by_region['LIFE-EXPECTANCY-AT-BIRTH'])\n",
    "regional_regions = np.array(comparsion_by_region['REGION'])\n",
    "\n",
    "# rounding the vairable and saving it as an int\n",
    "regional_le = np.round(regional_le,0)\n",
    "regional_le = regional_le.astype(int)\n"
   ]
  },
  {
   "cell_type": "code",
   "execution_count": 361,
   "metadata": {},
   "outputs": [
    {
     "data": {
      "image/png": "[encoded data removed]",
      "text/plain": [
       "<Figure size 864x432 with 1 Axes>"
      ]
     },
     "metadata": {
      "needs_background": "light"
     },
     "output_type": "display_data"
    }
   ],
   "source": [
    "# Creating bar chart showing the life expectancies by region\n",
    "plt.figure(figsize=(12,6))\n",
    "plt.bar(comparsion_by_region['REGION'], comparsion_by_region['LIFE-EXPECTANCY-AT-BIRTH'], edgecolor='black')\n",
    "plt.title(\"Median Life Expectancy at Birth by World Region\", fontsize='xx-large')\n",
    "plt.xlabel('World Regions', fontsize='x-large')\n",
    "plt.ylabel('Median Life Expectancy at Birth', fontsize='x-large')\n",
    "plt.xticks(rotation='vertical')\n",
    "\n",
    "for i in range(len(regional_le)):\n",
    "        plt.annotate(text = (str(regional_le[i])), xy = (regional_regions[i], regional_le[i]),\n",
    "            fontsize= 'x-large', horizontalalignment='center', verticalalignment='top', color='white')\n",
    "\n",
    "plt.show()"
   ]
  },
  {
   "cell_type": "code",
   "execution_count": 362,
   "metadata": {},
   "outputs": [
    {
     "data": {
      "image/png": "[encoded data removed]",
      "text/plain": [
       "<Figure size 864x432 with 1 Axes>"
      ]
     },
     "metadata": {
      "needs_background": "light"
     },
     "output_type": "display_data"
    }
   ],
   "source": [
    "# Histogram of Life Expectancy ranges\n",
    "plt.figure(figsize=(12,6))\n",
    "plt.hist(expectancy, bins=25, rwidth=0.8)\n",
    "\n",
    "\n",
    "plt.xlabel('Life Expectancy at Birth', fontsize='x-large')\n",
    "plt.ylabel(\"Frequency\", fontsize='x-large')\n",
    "plt.show()"
   ]
  },
  {
   "cell_type": "code",
   "execution_count": 363,
   "metadata": {},
   "outputs": [
    {
     "data": {
      "image/png": "[encoded data removed]",
      "text/plain": [
       "<Figure size 864x432 with 1 Axes>"
      ]
     },
     "metadata": {
      "needs_background": "light"
     },
     "output_type": "display_data"
    }
   ],
   "source": [
    "# Histogram of Median Age\n",
    "plt.figure(figsize=(12,6))\n",
    "plt.hist(sorted_comparison_df['MEDIAN-AGE'], bins=25, rwidth=0.8)\n",
    "\n",
    "\n",
    "plt.xlabel('Median Age', fontsize='x-large')\n",
    "plt.ylabel(\"Frequency\", fontsize='x-large')\n",
    "plt.show()"
   ]
  },
  {
   "cell_type": "code",
   "execution_count": 365,
   "metadata": {},
   "outputs": [
    {
     "data": {
      "image/png": "[encoded data removed]",
      "text/plain": [
       "<Figure size 864x432 with 1 Axes>"
      ]
     },
     "metadata": {
      "needs_background": "light"
     },
     "output_type": "display_data"
    }
   ],
   "source": [
    "# Histogram of GDP\n",
    "plt.figure(figsize=(12,6))\n",
    "plt.hist(sorted_comparison_df['REAL-GDP-PER-CAPITA'], bins=30, rwidth=0.8)\n",
    "\n",
    "\n",
    "plt.xlabel('Real GDP per Capita', fontsize='x-large')\n",
    "plt.ylabel(\"Frequency\", fontsize='x-large')\n",
    "plt.show()"
   ]
  }
 ],
 "metadata": {
  "kernelspec": {
   "display_name": "Python 3.10.4 (conda)",
   "language": "python",
   "name": "python3"
  },
  "language_info": {
   "codemirror_mode": {
    "name": "ipython",
    "version": 3
   },
   "file_extension": ".py",
   "mimetype": "text/x-python",
   "name": "python",
   "nbconvert_exporter": "python",
   "pygments_lexer": "ipython3",
   "version": "3.10.4"
  },
  "orig_nbformat": 4,
  "vscode": {
   "interpreter": {
    "hash": "c9210f26c672ee5013faeaa411fc9882a3aae50849f828c7d22c2afc933e01be"
   }
  }
 },
 "nbformat": 4,
 "nbformat_minor": 2
}
